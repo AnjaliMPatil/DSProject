{
 "cells": [
  {
   "cell_type": "code",
   "execution_count": null,
   "id": "c6ea4fa7",
   "metadata": {},
   "outputs": [],
   "source": [
    "2x + 3y = 10\n",
    "5x + 7y = 20\n",
    "\n",
    "x = ? \n",
    "y = ?"
   ]
  },
  {
   "cell_type": "code",
   "execution_count": 1,
   "id": "5342921e",
   "metadata": {},
   "outputs": [],
   "source": [
    "import numpy as np "
   ]
  },
  {
   "cell_type": "markdown",
   "id": "0fcd1831",
   "metadata": {},
   "source": [
    "# Linear Equations "
   ]
  },
  {
   "cell_type": "code",
   "execution_count": null,
   "id": "62cdc486",
   "metadata": {},
   "outputs": [],
   "source": [
    "2x + 3y = 10\n",
    "5x + 7y = 20\n",
    "\n",
    "x = -10\n",
    "y =  10"
   ]
  },
  {
   "cell_type": "code",
   "execution_count": 3,
   "id": "305989e6",
   "metadata": {},
   "outputs": [
    {
     "name": "stdout",
     "output_type": "stream",
     "text": [
      "Array A = \n",
      " [[2 3]\n",
      " [5 7]]\n",
      "Array B = \n",
      " [10 20]\n"
     ]
    }
   ],
   "source": [
    "arr_a = np.array([[2,3],[5,7]])\n",
    "arr_b = np.array([10,20])\n",
    "print(f\"Array A = \\n {arr_a}\")\n",
    "print(f\"Array B = \\n {arr_b}\")"
   ]
  },
  {
   "cell_type": "code",
   "execution_count": 4,
   "id": "9902c841",
   "metadata": {},
   "outputs": [
    {
     "data": {
      "text/plain": [
       "array([-10.,  10.])"
      ]
     },
     "execution_count": 4,
     "metadata": {},
     "output_type": "execute_result"
    }
   ],
   "source": [
    "np.linalg.solve(arr_a, arr_b)"
   ]
  },
  {
   "cell_type": "code",
   "execution_count": null,
   "id": "78b0c33a",
   "metadata": {},
   "outputs": [],
   "source": [
    "2x + 3y = 10\n",
    "5x + 7y = 20\n",
    "\n",
    "x = ? \n",
    "y = ?"
   ]
  },
  {
   "cell_type": "code",
   "execution_count": 5,
   "id": "fb322f33",
   "metadata": {},
   "outputs": [
    {
     "data": {
      "text/plain": [
       "10"
      ]
     },
     "execution_count": 5,
     "metadata": {},
     "output_type": "execute_result"
    }
   ],
   "source": [
    "2*(-10) + 3*10"
   ]
  },
  {
   "cell_type": "code",
   "execution_count": null,
   "id": "58f6bd85",
   "metadata": {},
   "outputs": [],
   "source": [
    "2x + 5y + 7z = 10 \n",
    "5x + 2y + 9z = 20 \n",
    "x + 6y + 8z = 30\n",
    "\n",
    "x = ? \n",
    "y = ?\n",
    "z = ?"
   ]
  },
  {
   "cell_type": "code",
   "execution_count": 7,
   "id": "095622b5",
   "metadata": {},
   "outputs": [
    {
     "data": {
      "text/plain": [
       "array([-16.85714286, -10.85714286,  14.        ])"
      ]
     },
     "execution_count": 7,
     "metadata": {},
     "output_type": "execute_result"
    }
   ],
   "source": [
    "arr_a = np.array([[2,5,7],[5,2,9],[1,6,8]])\n",
    "arr_b = np.array([10,20,30])\n",
    "ans = np.linalg.solve(arr_a,arr_b)\n",
    "ans"
   ]
  },
  {
   "cell_type": "markdown",
   "id": "ca3a6493",
   "metadata": {},
   "source": [
    "# Determinant of Matrix "
   ]
  },
  {
   "cell_type": "code",
   "execution_count": null,
   "id": "159eff60",
   "metadata": {},
   "outputs": [],
   "source": [
    "A = |A|\n",
    "\n",
    "|A| = ad - bc\n",
    "\n",
    "[[a,b]\n",
    "[c,d]]\n",
    "\n"
   ]
  },
  {
   "cell_type": "code",
   "execution_count": 10,
   "id": "acb2027c",
   "metadata": {},
   "outputs": [
    {
     "data": {
      "text/plain": [
       "-1.0000000000000018"
      ]
     },
     "execution_count": 10,
     "metadata": {},
     "output_type": "execute_result"
    }
   ],
   "source": [
    "A = np.array([[2,5],[3,7]])\n",
    "det_A = np.linalg.det(A)\n",
    "det_A"
   ]
  },
  {
   "cell_type": "code",
   "execution_count": 11,
   "id": "49fec588",
   "metadata": {},
   "outputs": [
    {
     "data": {
      "text/plain": [
       "array([[2, 5],\n",
       "       [3, 7]])"
      ]
     },
     "execution_count": 11,
     "metadata": {},
     "output_type": "execute_result"
    }
   ],
   "source": [
    "A"
   ]
  },
  {
   "cell_type": "code",
   "execution_count": 12,
   "id": "6926d19f",
   "metadata": {},
   "outputs": [
    {
     "data": {
      "text/plain": [
       "-1"
      ]
     },
     "execution_count": 12,
     "metadata": {},
     "output_type": "execute_result"
    }
   ],
   "source": [
    "(2 * 7) - (5* 3)"
   ]
  },
  {
   "cell_type": "code",
   "execution_count": 13,
   "id": "7cb36635",
   "metadata": {},
   "outputs": [
    {
     "name": "stdout",
     "output_type": "stream",
     "text": [
      "[[2 5 6]\n",
      " [3 7 5]\n",
      " [1 6 8]]\n"
     ]
    },
    {
     "data": {
      "text/plain": [
       "22.99999999999999"
      ]
     },
     "execution_count": 13,
     "metadata": {},
     "output_type": "execute_result"
    }
   ],
   "source": [
    "A = np.array([[2,5,6],[3,7,5],[1,6,8]])\n",
    "print(A)\n",
    "det_A = np.linalg.det(A)\n",
    "det_A"
   ]
  },
  {
   "attachments": {
    "image.png": {
     "image/png": "[encoded data removed]"
    }
   },
   "cell_type": "markdown",
   "id": "5a1cd156",
   "metadata": {},
   "source": [
    "![image.png](attachment:image.png)"
   ]
  },
  {
   "cell_type": "markdown",
   "id": "e04641c4",
   "metadata": {},
   "source": [
    "# inverse of Matrix "
   ]
  },
  {
   "cell_type": "code",
   "execution_count": null,
   "id": "386ae4fc",
   "metadata": {},
   "outputs": [],
   "source": [
    "A = A^-1 = 1/|A| * Adj(A)\n",
    "\n",
    "A^-1 = 1/|A| * Adj(A)"
   ]
  },
  {
   "cell_type": "code",
   "execution_count": 16,
   "id": "9b094945",
   "metadata": {},
   "outputs": [
    {
     "data": {
      "text/plain": [
       "array([[-7.,  5.],\n",
       "       [ 3., -2.]])"
      ]
     },
     "execution_count": 16,
     "metadata": {},
     "output_type": "execute_result"
    }
   ],
   "source": [
    "A = np.array([[2,5],[3,7]])\n",
    "inv_A = np.linalg.inv(A)\n",
    "inv_A"
   ]
  },
  {
   "cell_type": "code",
   "execution_count": 17,
   "id": "d3ffed46",
   "metadata": {},
   "outputs": [
    {
     "name": "stdout",
     "output_type": "stream",
     "text": [
      "[[2 5 6]\n",
      " [3 7 5]\n",
      " [1 6 8]]\n"
     ]
    },
    {
     "data": {
      "text/plain": [
       "array([[ 1.13043478, -0.17391304, -0.73913043],\n",
       "       [-0.82608696,  0.43478261,  0.34782609],\n",
       "       [ 0.47826087, -0.30434783, -0.04347826]])"
      ]
     },
     "execution_count": 17,
     "metadata": {},
     "output_type": "execute_result"
    }
   ],
   "source": [
    "A = np.array([[2,5,6],[3,7,5],[1,6,8]])\n",
    "print(A)\n",
    "det_A = np.linalg.inv(A)\n",
    "det_A"
   ]
  },
  {
   "cell_type": "markdown",
   "id": "3d2a8706",
   "metadata": {},
   "source": [
    "# Eigen Values And Eigen Vector"
   ]
  },
  {
   "cell_type": "code",
   "execution_count": null,
   "id": "536047fa",
   "metadata": {},
   "outputs": [],
   "source": [
    "scalar -- mangintude \n",
    "vector -- mag & direction \n",
    "\n",
    "\n"
   ]
  },
  {
   "attachments": {
    "image.png": {
     "image/png": "[encoded data removed]"
    }
   },
   "cell_type": "markdown",
   "id": "58c7a216",
   "metadata": {},
   "source": [
    "![image.png](attachment:image.png)"
   ]
  },
  {
   "cell_type": "code",
   "execution_count": 19,
   "id": "864fc26a",
   "metadata": {},
   "outputs": [
    {
     "data": {
      "text/plain": [
       "array([-0.10977223,  9.10977223])"
      ]
     },
     "execution_count": 19,
     "metadata": {},
     "output_type": "execute_result"
    }
   ],
   "source": [
    "A = np.array([[2,5],[3,7]])\n",
    "inv_A = np.linalg.eigvals(A)\n",
    "inv_A"
   ]
  },
  {
   "cell_type": "code",
   "execution_count": 20,
   "id": "28c96e21",
   "metadata": {},
   "outputs": [
    {
     "data": {
      "text/plain": [
       "(array([-0.10977223,  9.10977223]),\n",
       " array([[-0.92133794, -0.57524923],\n",
       "        [ 0.38876264, -0.81797819]]))"
      ]
     },
     "execution_count": 20,
     "metadata": {},
     "output_type": "execute_result"
    }
   ],
   "source": [
    "A = np.array([[2,5],[3,7]])\n",
    "res = np.linalg.eig(A)\n",
    "res"
   ]
  },
  {
   "cell_type": "code",
   "execution_count": 21,
   "id": "b43b183e",
   "metadata": {},
   "outputs": [
    {
     "data": {
      "text/plain": [
       "array([[-0.92133794, -0.57524923],\n",
       "       [ 0.38876264, -0.81797819]])"
      ]
     },
     "execution_count": 21,
     "metadata": {},
     "output_type": "execute_result"
    }
   ],
   "source": [
    "A = np.array([[2,5],[3,7]])\n",
    "eigen_val, eigen_vector = np.linalg.eig(A)\n",
    "eigen_vector"
   ]
  },
  {
   "cell_type": "code",
   "execution_count": null,
   "id": "60d5252b",
   "metadata": {},
   "outputs": [],
   "source": [
    "A Matrix \n",
    "Square matrix n x n \n",
    "\n",
    "Eigen Values & Eigen Vector \n",
    "\n",
    "AV = eigen_val * V"
   ]
  },
  {
   "cell_type": "code",
   "execution_count": null,
   "id": "b0c888c8",
   "metadata": {},
   "outputs": [],
   "source": []
  },
  {
   "cell_type": "markdown",
   "id": "a83aea59",
   "metadata": {},
   "source": [
    "# Polynomial Equations "
   ]
  },
  {
   "cell_type": "code",
   "execution_count": null,
   "id": "b838fd68",
   "metadata": {},
   "outputs": [],
   "source": [
    "x^2 + 5x + 6 = 0\n",
    "a = 1\n",
    "b = 5\n",
    "c = 6\n",
    "\n"
   ]
  },
  {
   "cell_type": "markdown",
   "id": "535894c9",
   "metadata": {},
   "source": [
    "## np.polynomial.Polynomial()"
   ]
  },
  {
   "cell_type": "code",
   "execution_count": 28,
   "id": "6bd7fe13",
   "metadata": {},
   "outputs": [
    {
     "data": {
      "text/latex": [
       "$x \\mapsto \\text{6.0} + \\text{5.0}\\,x + \\text{1.0}\\,x^{2}$"
      ],
      "text/plain": [
       "Polynomial([6., 5., 1.], domain=[-1,  1], window=[-1,  1])"
      ]
     },
     "execution_count": 28,
     "metadata": {},
     "output_type": "execute_result"
    }
   ],
   "source": [
    "eq = np.polynomial.Polynomial([6,5,1])\n",
    "eq"
   ]
  },
  {
   "cell_type": "code",
   "execution_count": 29,
   "id": "e65ffe3c",
   "metadata": {},
   "outputs": [
    {
     "ename": "SyntaxError",
     "evalue": "invalid syntax (2352247774.py, line 1)",
     "output_type": "error",
     "traceback": [
      "\u001b[1;36m  Input \u001b[1;32mIn [29]\u001b[1;36m\u001b[0m\n\u001b[1;33m    x^2 - 5x + 6 = 0\u001b[0m\n\u001b[1;37m           ^\u001b[0m\n\u001b[1;31mSyntaxError\u001b[0m\u001b[1;31m:\u001b[0m invalid syntax\n"
     ]
    }
   ],
   "source": [
    "x^2 - 5x + 6 = 0\n",
    "a = 1\n",
    "b = -5\n",
    "c = 6\n",
    "\n"
   ]
  },
  {
   "cell_type": "code",
   "execution_count": 30,
   "id": "8e00acf2",
   "metadata": {},
   "outputs": [
    {
     "data": {
      "text/latex": [
       "$x \\mapsto \\text{6.0} - \\text{5.0}\\,x + \\text{1.0}\\,x^{2}$"
      ],
      "text/plain": [
       "Polynomial([ 6., -5.,  1.], domain=[-1,  1], window=[-1,  1])"
      ]
     },
     "execution_count": 30,
     "metadata": {},
     "output_type": "execute_result"
    }
   ],
   "source": [
    "eq = np.polynomial.Polynomial([6,-5,1])\n",
    "eq"
   ]
  },
  {
   "cell_type": "code",
   "execution_count": 31,
   "id": "42bee179",
   "metadata": {},
   "outputs": [
    {
     "data": {
      "text/plain": [
       "array([2., 3.])"
      ]
     },
     "execution_count": 31,
     "metadata": {},
     "output_type": "execute_result"
    }
   ],
   "source": [
    "eq.roots()"
   ]
  },
  {
   "cell_type": "code",
   "execution_count": null,
   "id": "ee440918",
   "metadata": {},
   "outputs": [],
   "source": [
    "np.polynomial.Polynomial"
   ]
  },
  {
   "cell_type": "code",
   "execution_count": null,
   "id": "560f6867",
   "metadata": {},
   "outputs": [],
   "source": []
  }
 ],
 "metadata": {
  "kernelspec": {
   "display_name": "Python 3 (ipykernel)",
   "language": "python",
   "name": "python3"
  },
  "language_info": {
   "codemirror_mode": {
    "name": "ipython",
    "version": 3
   },
   "file_extension": ".py",
   "mimetype": "text/x-python",
   "name": "python",
   "nbconvert_exporter": "python",
   "pygments_lexer": "ipython3",
   "version": "3.9.12"
  }
 },
 "nbformat": 4,
 "nbformat_minor": 5
}

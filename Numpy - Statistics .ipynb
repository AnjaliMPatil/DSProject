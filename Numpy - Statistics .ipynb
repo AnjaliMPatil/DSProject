{
 "cells": [
  {
   "cell_type": "code",
   "execution_count": 1,
   "id": "32900b3e",
   "metadata": {},
   "outputs": [],
   "source": [
    "import numpy as np"
   ]
  },
  {
   "cell_type": "code",
   "execution_count": null,
   "id": "f42bc51d",
   "metadata": {},
   "outputs": [],
   "source": [
    "# Measures of center\n",
    "mean \n",
    "median \n",
    "mode\n",
    "\n",
    "# Measures of Spread \n",
    "range\n",
    "variance  \n",
    "standard diviation \n"
   ]
  },
  {
   "cell_type": "markdown",
   "id": "4ad764fb",
   "metadata": {},
   "source": [
    "# 1. mean "
   ]
  },
  {
   "cell_type": "code",
   "execution_count": 3,
   "id": "d48caf78",
   "metadata": {},
   "outputs": [
    {
     "data": {
      "text/plain": [
       "array([4, 1, 6, 8, 4, 9, 3, 1, 5, 9, 6, 5, 3, 9, 1])"
      ]
     },
     "execution_count": 3,
     "metadata": {},
     "output_type": "execute_result"
    }
   ],
   "source": [
    "arr = np.random.randint(1,10, size = 15)\n",
    "arr"
   ]
  },
  {
   "cell_type": "code",
   "execution_count": 4,
   "id": "aa625bd4",
   "metadata": {},
   "outputs": [
    {
     "data": {
      "text/plain": [
       "4.933333333333334"
      ]
     },
     "execution_count": 4,
     "metadata": {},
     "output_type": "execute_result"
    }
   ],
   "source": [
    "np.mean(arr)"
   ]
  },
  {
   "cell_type": "code",
   "execution_count": 5,
   "id": "de75674c",
   "metadata": {},
   "outputs": [
    {
     "data": {
      "text/plain": [
       "74"
      ]
     },
     "execution_count": 5,
     "metadata": {},
     "output_type": "execute_result"
    }
   ],
   "source": [
    "np.sum(arr)"
   ]
  },
  {
   "cell_type": "code",
   "execution_count": 6,
   "id": "0786b47f",
   "metadata": {},
   "outputs": [
    {
     "data": {
      "text/plain": [
       "15"
      ]
     },
     "execution_count": 6,
     "metadata": {},
     "output_type": "execute_result"
    }
   ],
   "source": [
    "len(arr)"
   ]
  },
  {
   "cell_type": "code",
   "execution_count": 7,
   "id": "c3685d39",
   "metadata": {},
   "outputs": [
    {
     "data": {
      "text/plain": [
       "4.933333333333334"
      ]
     },
     "execution_count": 7,
     "metadata": {},
     "output_type": "execute_result"
    }
   ],
   "source": [
    "np.sum(arr)/ len(arr)"
   ]
  },
  {
   "cell_type": "markdown",
   "id": "e5bbdd29",
   "metadata": {},
   "source": [
    "# median "
   ]
  },
  {
   "cell_type": "code",
   "execution_count": null,
   "id": "74dd5a45",
   "metadata": {},
   "outputs": [],
   "source": [
    "Exctly center value of data \n",
    "\n",
    "1. Sort the array \n",
    "2. len/ 2\n",
    "    2.1 >> 5/2 = 2.5 >> 3\n",
    "    2.2 >> 10/2 = 5\n"
   ]
  },
  {
   "cell_type": "code",
   "execution_count": 9,
   "id": "20204c2e",
   "metadata": {},
   "outputs": [
    {
     "data": {
      "text/plain": [
       "array([7, 2, 4, 8, 4, 9, 4, 6, 9, 6, 9, 3, 7, 6, 8])"
      ]
     },
     "execution_count": 9,
     "metadata": {},
     "output_type": "execute_result"
    }
   ],
   "source": [
    "arr = np.random.randint(1,10, size = 15)\n",
    "arr"
   ]
  },
  {
   "cell_type": "code",
   "execution_count": 10,
   "id": "f0b0f65d",
   "metadata": {},
   "outputs": [
    {
     "data": {
      "text/plain": [
       "6.0"
      ]
     },
     "execution_count": 10,
     "metadata": {},
     "output_type": "execute_result"
    }
   ],
   "source": [
    "np.median(arr)"
   ]
  },
  {
   "cell_type": "code",
   "execution_count": 11,
   "id": "04b5f232",
   "metadata": {},
   "outputs": [
    {
     "data": {
      "text/plain": [
       "array([2, 3, 4, 4, 4, 6, 6, 6, 7, 7, 8, 8, 9, 9, 9])"
      ]
     },
     "execution_count": 11,
     "metadata": {},
     "output_type": "execute_result"
    }
   ],
   "source": [
    "sort_arr = np.sort(arr)\n",
    "sort_arr"
   ]
  },
  {
   "cell_type": "code",
   "execution_count": 12,
   "id": "8b5d84ab",
   "metadata": {},
   "outputs": [
    {
     "data": {
      "text/plain": [
       "7.5"
      ]
     },
     "execution_count": 12,
     "metadata": {},
     "output_type": "execute_result"
    }
   ],
   "source": [
    "sort_arr = np.sort(arr)\n",
    "median_index = len(sort_arr)/2\n",
    "median_index "
   ]
  },
  {
   "cell_type": "code",
   "execution_count": 18,
   "id": "f03741ec",
   "metadata": {},
   "outputs": [
    {
     "data": {
      "text/plain": [
       "8"
      ]
     },
     "execution_count": 18,
     "metadata": {},
     "output_type": "execute_result"
    }
   ],
   "source": [
    "sort_arr = np.sort(arr)\n",
    "median_index = np.around(len(sort_arr)/2)\n",
    "int(median_index)"
   ]
  },
  {
   "cell_type": "code",
   "execution_count": 15,
   "id": "cb4edf76",
   "metadata": {},
   "outputs": [
    {
     "ename": "IndexError",
     "evalue": "only integers, slices (`:`), ellipsis (`...`), numpy.newaxis (`None`) and integer or boolean arrays are valid indices",
     "output_type": "error",
     "traceback": [
      "\u001b[1;31m---------------------------------------------------------------------------\u001b[0m",
      "\u001b[1;31mIndexError\u001b[0m                                Traceback (most recent call last)",
      "Input \u001b[1;32mIn [15]\u001b[0m, in \u001b[0;36m<cell line: 3>\u001b[1;34m()\u001b[0m\n\u001b[0;32m      1\u001b[0m sort_arr \u001b[38;5;241m=\u001b[39m np\u001b[38;5;241m.\u001b[39msort(arr)\n\u001b[0;32m      2\u001b[0m median_index \u001b[38;5;241m=\u001b[39m np\u001b[38;5;241m.\u001b[39maround(\u001b[38;5;28mlen\u001b[39m(sort_arr)\u001b[38;5;241m/\u001b[39m\u001b[38;5;241m2\u001b[39m)\n\u001b[1;32m----> 3\u001b[0m median_val \u001b[38;5;241m=\u001b[39m \u001b[43marr\u001b[49m\u001b[43m[\u001b[49m\u001b[43mmedian_index\u001b[49m\u001b[43m]\u001b[49m\n\u001b[0;32m      4\u001b[0m median_val\n",
      "\u001b[1;31mIndexError\u001b[0m: only integers, slices (`:`), ellipsis (`...`), numpy.newaxis (`None`) and integer or boolean arrays are valid indices"
     ]
    }
   ],
   "source": [
    "sort_arr = np.sort(arr)\n",
    "median_index = np.around(len(sort_arr)/2)\n",
    "median_val = arr[median_index]\n",
    "median_val"
   ]
  },
  {
   "cell_type": "code",
   "execution_count": 23,
   "id": "67b31f73",
   "metadata": {},
   "outputs": [
    {
     "name": "stdout",
     "output_type": "stream",
     "text": [
      "7.0\n"
     ]
    },
    {
     "data": {
      "text/plain": [
       "6"
      ]
     },
     "execution_count": 23,
     "metadata": {},
     "output_type": "execute_result"
    }
   ],
   "source": [
    "sort_arr = np.sort(arr)\n",
    "median_index = np.floor(len(sort_arr)/2)\n",
    "print(median_index)\n",
    "median_val = arr[int(median_index)]\n",
    "median_val"
   ]
  },
  {
   "cell_type": "code",
   "execution_count": 21,
   "id": "a72509ce",
   "metadata": {},
   "outputs": [
    {
     "name": "stdout",
     "output_type": "stream",
     "text": [
      "7\n"
     ]
    },
    {
     "data": {
      "text/plain": [
       "6"
      ]
     },
     "execution_count": 21,
     "metadata": {},
     "output_type": "execute_result"
    }
   ],
   "source": [
    "sort_arr = np.sort(arr)\n",
    "median_index = len(sort_arr)//2\n",
    "print(median_index)\n",
    "median_val = arr[median_index]\n",
    "median_val"
   ]
  },
  {
   "cell_type": "code",
   "execution_count": 24,
   "id": "de92be3f",
   "metadata": {},
   "outputs": [
    {
     "data": {
      "text/plain": [
       "array([7, 2, 4, 8, 4, 9, 4, 6, 9, 6, 9, 3, 7, 6, 8])"
      ]
     },
     "execution_count": 24,
     "metadata": {},
     "output_type": "execute_result"
    }
   ],
   "source": [
    "arr"
   ]
  },
  {
   "cell_type": "code",
   "execution_count": null,
   "id": "e0ea1063",
   "metadata": {},
   "outputs": [],
   "source": []
  },
  {
   "cell_type": "code",
   "execution_count": 25,
   "id": "38e4b521",
   "metadata": {},
   "outputs": [
    {
     "data": {
      "text/plain": [
       "array([1, 6, 5, 2, 8, 1, 2, 9, 4, 7, 9, 5, 3, 4, 1, 3])"
      ]
     },
     "execution_count": 25,
     "metadata": {},
     "output_type": "execute_result"
    }
   ],
   "source": [
    "arr = np.random.randint(1,10, size = 16)\n",
    "arr"
   ]
  },
  {
   "cell_type": "code",
   "execution_count": 26,
   "id": "cc9d22d5",
   "metadata": {},
   "outputs": [
    {
     "name": "stdout",
     "output_type": "stream",
     "text": [
      "[1 1 1 2 2 3 3 4 4 5 5 6 7 8 9 9]\n"
     ]
    }
   ],
   "source": [
    "sort_arr = np.sort(arr)\n",
    "print(sort_arr)"
   ]
  },
  {
   "cell_type": "code",
   "execution_count": 30,
   "id": "221eeb92",
   "metadata": {},
   "outputs": [
    {
     "data": {
      "text/plain": [
       "array([1, 1, 1, 2, 2, 3, 3, 4, 4, 5, 5, 6, 7, 8, 9, 9])"
      ]
     },
     "execution_count": 30,
     "metadata": {},
     "output_type": "execute_result"
    }
   ],
   "source": [
    "sort_arr = np.sort(arr)\n",
    "sort_arr"
   ]
  },
  {
   "cell_type": "code",
   "execution_count": 59,
   "id": "f7f475fa",
   "metadata": {},
   "outputs": [
    {
     "data": {
      "text/plain": [
       "4.0"
      ]
     },
     "execution_count": 59,
     "metadata": {},
     "output_type": "execute_result"
    }
   ],
   "source": [
    "median= (sort_arr[len(sort_arr)//2] + sort_arr[(len(sort_arr)//2)-1] ) / 2\n",
    "median"
   ]
  },
  {
   "cell_type": "code",
   "execution_count": 32,
   "id": "cb236ef3",
   "metadata": {},
   "outputs": [
    {
     "data": {
      "text/plain": [
       "4"
      ]
     },
     "execution_count": 32,
     "metadata": {},
     "output_type": "execute_result"
    }
   ],
   "source": [
    "sort_arr[8]"
   ]
  },
  {
   "cell_type": "code",
   "execution_count": 33,
   "id": "a0e4636d",
   "metadata": {},
   "outputs": [
    {
     "data": {
      "text/plain": [
       "4"
      ]
     },
     "execution_count": 33,
     "metadata": {},
     "output_type": "execute_result"
    }
   ],
   "source": [
    "sort_arr[7]"
   ]
  },
  {
   "cell_type": "code",
   "execution_count": 35,
   "id": "1c972cf1",
   "metadata": {},
   "outputs": [
    {
     "data": {
      "text/plain": [
       "4.0"
      ]
     },
     "execution_count": 35,
     "metadata": {},
     "output_type": "execute_result"
    }
   ],
   "source": [
    "(4+ 4)/ 2"
   ]
  },
  {
   "cell_type": "code",
   "execution_count": 40,
   "id": "7c4410f2",
   "metadata": {},
   "outputs": [
    {
     "data": {
      "text/plain": [
       "array([1, 2, 4, 4, 3, 1, 6, 6, 9, 7])"
      ]
     },
     "execution_count": 40,
     "metadata": {},
     "output_type": "execute_result"
    }
   ],
   "source": [
    "arr = np.random.randint(1,10, size = 10)\n",
    "arr"
   ]
  },
  {
   "cell_type": "code",
   "execution_count": 41,
   "id": "31d3d85e",
   "metadata": {},
   "outputs": [
    {
     "data": {
      "text/plain": [
       "array([1, 1, 2, 3, 4, 4, 6, 6, 7, 9])"
      ]
     },
     "execution_count": 41,
     "metadata": {},
     "output_type": "execute_result"
    }
   ],
   "source": [
    "sort = np.sort(arr)\n",
    "sort"
   ]
  },
  {
   "cell_type": "code",
   "execution_count": null,
   "id": "72e3cbe0",
   "metadata": {},
   "outputs": [],
   "source": [
    "count_wise = 5,6 \n",
    "index_wise = 4,5"
   ]
  },
  {
   "cell_type": "code",
   "execution_count": 42,
   "id": "2b379167",
   "metadata": {},
   "outputs": [
    {
     "data": {
      "text/plain": [
       "5"
      ]
     },
     "execution_count": 42,
     "metadata": {},
     "output_type": "execute_result"
    }
   ],
   "source": [
    "len(sort)//2"
   ]
  },
  {
   "cell_type": "code",
   "execution_count": 43,
   "id": "79a263c5",
   "metadata": {},
   "outputs": [
    {
     "data": {
      "text/plain": [
       "4"
      ]
     },
     "execution_count": 43,
     "metadata": {},
     "output_type": "execute_result"
    }
   ],
   "source": [
    "len(sort)//2-1"
   ]
  },
  {
   "cell_type": "code",
   "execution_count": 44,
   "id": "2df0ff52",
   "metadata": {},
   "outputs": [
    {
     "data": {
      "text/plain": [
       "4"
      ]
     },
     "execution_count": 44,
     "metadata": {},
     "output_type": "execute_result"
    }
   ],
   "source": [
    "sort[5]"
   ]
  },
  {
   "cell_type": "code",
   "execution_count": 45,
   "id": "8bfdcc45",
   "metadata": {},
   "outputs": [
    {
     "data": {
      "text/plain": [
       "4"
      ]
     },
     "execution_count": 45,
     "metadata": {},
     "output_type": "execute_result"
    }
   ],
   "source": [
    "sort[4]"
   ]
  },
  {
   "cell_type": "code",
   "execution_count": 46,
   "id": "956c70d1",
   "metadata": {},
   "outputs": [
    {
     "data": {
      "text/plain": [
       "4"
      ]
     },
     "execution_count": 46,
     "metadata": {},
     "output_type": "execute_result"
    }
   ],
   "source": [
    "sort[len(sort)//2]"
   ]
  },
  {
   "cell_type": "code",
   "execution_count": 47,
   "id": "74804f9b",
   "metadata": {},
   "outputs": [
    {
     "data": {
      "text/plain": [
       "4"
      ]
     },
     "execution_count": 47,
     "metadata": {},
     "output_type": "execute_result"
    }
   ],
   "source": [
    "sort[len(sort)//2-1]"
   ]
  },
  {
   "cell_type": "code",
   "execution_count": 48,
   "id": "cf71c329",
   "metadata": {},
   "outputs": [
    {
     "data": {
      "text/plain": [
       "8"
      ]
     },
     "execution_count": 48,
     "metadata": {},
     "output_type": "execute_result"
    }
   ],
   "source": [
    "sort[len(sort)//2] + sort[len(sort)//2-1]"
   ]
  },
  {
   "cell_type": "code",
   "execution_count": 49,
   "id": "fdf9b610",
   "metadata": {},
   "outputs": [
    {
     "data": {
      "text/plain": [
       "4.0"
      ]
     },
     "execution_count": 49,
     "metadata": {},
     "output_type": "execute_result"
    }
   ],
   "source": [
    "(sort[len(sort)//2] + sort[len(sort)//2-1]) / 2"
   ]
  },
  {
   "cell_type": "code",
   "execution_count": 50,
   "id": "a35ba556",
   "metadata": {},
   "outputs": [
    {
     "data": {
      "text/plain": [
       "4.0"
      ]
     },
     "execution_count": 50,
     "metadata": {},
     "output_type": "execute_result"
    }
   ],
   "source": [
    "median_val = (sort[len(sort)//2] + sort[len(sort)//2-1]) / 2\n",
    "median_val"
   ]
  },
  {
   "cell_type": "code",
   "execution_count": 51,
   "id": "c6353db3",
   "metadata": {},
   "outputs": [],
   "source": [
    "a = np.array([1, 6, 5, 2, 8, 1, 2, 9, 4, 7, 9, 5, 3, 4, 1, 3])\n",
    "sa = np.sort(a)"
   ]
  },
  {
   "cell_type": "code",
   "execution_count": 52,
   "id": "9e4ad42c",
   "metadata": {},
   "outputs": [
    {
     "data": {
      "text/plain": [
       "array([1, 1, 1, 2, 2, 3, 3, 4, 4, 5, 5, 6, 7, 8, 9, 9])"
      ]
     },
     "execution_count": 52,
     "metadata": {},
     "output_type": "execute_result"
    }
   ],
   "source": [
    "sa"
   ]
  },
  {
   "cell_type": "code",
   "execution_count": null,
   "id": "fc0ebc06",
   "metadata": {},
   "outputs": [],
   "source": [
    "count_wise 8,9\n",
    "index_wise 7,8 "
   ]
  },
  {
   "cell_type": "code",
   "execution_count": 53,
   "id": "0b0d4939",
   "metadata": {},
   "outputs": [
    {
     "data": {
      "text/plain": [
       "8"
      ]
     },
     "execution_count": 53,
     "metadata": {},
     "output_type": "execute_result"
    }
   ],
   "source": [
    "len(sa)//2"
   ]
  },
  {
   "cell_type": "code",
   "execution_count": 54,
   "id": "3852473f",
   "metadata": {},
   "outputs": [
    {
     "data": {
      "text/plain": [
       "7"
      ]
     },
     "execution_count": 54,
     "metadata": {},
     "output_type": "execute_result"
    }
   ],
   "source": [
    "len(sa)//2-1"
   ]
  },
  {
   "cell_type": "code",
   "execution_count": 55,
   "id": "0daae16d",
   "metadata": {},
   "outputs": [
    {
     "data": {
      "text/plain": [
       "4"
      ]
     },
     "execution_count": 55,
     "metadata": {},
     "output_type": "execute_result"
    }
   ],
   "source": [
    "sa[len(sa)//2]"
   ]
  },
  {
   "cell_type": "code",
   "execution_count": 56,
   "id": "b33c6a0c",
   "metadata": {},
   "outputs": [
    {
     "data": {
      "text/plain": [
       "4"
      ]
     },
     "execution_count": 56,
     "metadata": {},
     "output_type": "execute_result"
    }
   ],
   "source": [
    "sa[len(sa)//2-1]"
   ]
  },
  {
   "cell_type": "code",
   "execution_count": 57,
   "id": "0423e597",
   "metadata": {},
   "outputs": [
    {
     "data": {
      "text/plain": [
       "8"
      ]
     },
     "execution_count": 57,
     "metadata": {},
     "output_type": "execute_result"
    }
   ],
   "source": [
    "sa[len(sa)//2] + sa[len(sa)//2-1]"
   ]
  },
  {
   "cell_type": "code",
   "execution_count": 58,
   "id": "0c924f0f",
   "metadata": {},
   "outputs": [
    {
     "data": {
      "text/plain": [
       "4.0"
      ]
     },
     "execution_count": 58,
     "metadata": {},
     "output_type": "execute_result"
    }
   ],
   "source": [
    "(sa[len(sa)//2] + sa[len(sa)//2-1] )/2"
   ]
  },
  {
   "cell_type": "markdown",
   "id": "0a850933",
   "metadata": {},
   "source": [
    "# mode"
   ]
  },
  {
   "cell_type": "code",
   "execution_count": null,
   "id": "f5db8718",
   "metadata": {},
   "outputs": [],
   "source": [
    "most repeated value "
   ]
  },
  {
   "cell_type": "code",
   "execution_count": 61,
   "id": "e490f08b",
   "metadata": {},
   "outputs": [
    {
     "name": "stderr",
     "output_type": "stream",
     "text": [
      "C:\\Users\\Shridhar\\anaconda3\\lib\\site-packages\\scipy\\__init__.py:146: UserWarning: A NumPy version >=1.16.5 and <1.23.0 is required for this version of SciPy (detected version 1.23.4\n",
      "  warnings.warn(f\"A NumPy version >={np_minversion} and <{np_maxversion}\"\n"
     ]
    }
   ],
   "source": [
    "import scipy "
   ]
  },
  {
   "cell_type": "code",
   "execution_count": 62,
   "id": "a2bd97d6",
   "metadata": {},
   "outputs": [],
   "source": [
    "from scipy.stats import mode "
   ]
  },
  {
   "cell_type": "code",
   "execution_count": 63,
   "id": "8bea71dc",
   "metadata": {},
   "outputs": [
    {
     "data": {
      "text/plain": [
       "ModeResult(mode=array([1]), count=array([2]))"
      ]
     },
     "execution_count": 63,
     "metadata": {},
     "output_type": "execute_result"
    }
   ],
   "source": [
    "result = mode(arr)\n",
    "result"
   ]
  },
  {
   "cell_type": "code",
   "execution_count": 64,
   "id": "d67bd244",
   "metadata": {},
   "outputs": [
    {
     "data": {
      "text/plain": [
       "array([1, 2, 4, 4, 3, 1, 6, 6, 9, 7])"
      ]
     },
     "execution_count": 64,
     "metadata": {},
     "output_type": "execute_result"
    }
   ],
   "source": [
    "arr"
   ]
  },
  {
   "cell_type": "code",
   "execution_count": 67,
   "id": "b6b96409",
   "metadata": {},
   "outputs": [
    {
     "name": "stdout",
     "output_type": "stream",
     "text": [
      "[60 29 68 72 44 84 80 34 86 28]\n"
     ]
    },
    {
     "data": {
      "text/plain": [
       "ModeResult(mode=array([28]), count=array([1]))"
      ]
     },
     "execution_count": 67,
     "metadata": {},
     "output_type": "execute_result"
    }
   ],
   "source": [
    "arr = np.random.randint(1,100, size = 10)\n",
    "print(arr)\n",
    "result = mode(arr)\n",
    "result"
   ]
  },
  {
   "cell_type": "code",
   "execution_count": 68,
   "id": "e151c455",
   "metadata": {},
   "outputs": [
    {
     "name": "stdout",
     "output_type": "stream",
     "text": [
      "[1 8 8 1 9 5 3 5 1 6]\n"
     ]
    },
    {
     "data": {
      "text/plain": [
       "ModeResult(mode=array([1]), count=array([3]))"
      ]
     },
     "execution_count": 68,
     "metadata": {},
     "output_type": "execute_result"
    }
   ],
   "source": [
    "arr = np.random.randint(1,10, size = 10)\n",
    "print(arr)\n",
    "result = mode(arr)\n",
    "result"
   ]
  },
  {
   "cell_type": "code",
   "execution_count": 69,
   "id": "33c4decf",
   "metadata": {},
   "outputs": [
    {
     "name": "stdout",
     "output_type": "stream",
     "text": [
      "[4 7 1 7 6 5 3 2 2 5]\n"
     ]
    },
    {
     "data": {
      "text/plain": [
       "ModeResult(mode=array([2]), count=array([2]))"
      ]
     },
     "execution_count": 69,
     "metadata": {},
     "output_type": "execute_result"
    }
   ],
   "source": [
    "arr = np.random.randint(1,10, size = 10)\n",
    "print(arr)\n",
    "result = mode(arr)\n",
    "result"
   ]
  },
  {
   "cell_type": "code",
   "execution_count": 72,
   "id": "848fdf61",
   "metadata": {},
   "outputs": [
    {
     "name": "stdout",
     "output_type": "stream",
     "text": [
      "[[1 3 2 6 3]\n",
      " [6 8 7 8 9]\n",
      " [4 7 3 1 6]\n",
      " [2 8 6 1 2]\n",
      " [6 2 1 8 3]\n",
      " [4 6 6 6 5]\n",
      " [7 1 7 7 4]\n",
      " [7 4 8 9 1]\n",
      " [3 4 9 6 7]\n",
      " [4 3 9 4 9]]\n"
     ]
    }
   ],
   "source": [
    "arr = np.random.randint(1,10, size = (10,5))\n",
    "print(arr)\n"
   ]
  },
  {
   "cell_type": "code",
   "execution_count": 73,
   "id": "ce5ae613",
   "metadata": {},
   "outputs": [
    {
     "data": {
      "text/plain": [
       "ModeResult(mode=array([[4, 3, 6, 6, 3]]), count=array([[3, 2, 2, 3, 2]]))"
      ]
     },
     "execution_count": 73,
     "metadata": {},
     "output_type": "execute_result"
    }
   ],
   "source": [
    "result = mode(arr)\n",
    "result"
   ]
  },
  {
   "cell_type": "markdown",
   "id": "d6ffeb6f",
   "metadata": {},
   "source": [
    "# Range "
   ]
  },
  {
   "cell_type": "code",
   "execution_count": null,
   "id": "82301b06",
   "metadata": {},
   "outputs": [],
   "source": [
    "stat_range = max - min"
   ]
  },
  {
   "cell_type": "code",
   "execution_count": 76,
   "id": "e5d141f8",
   "metadata": {},
   "outputs": [
    {
     "name": "stdout",
     "output_type": "stream",
     "text": [
      "[5 8 3 9 2 3 1 4 6 1]\n",
      "1\n",
      "9\n"
     ]
    },
    {
     "data": {
      "text/plain": [
       "8"
      ]
     },
     "execution_count": 76,
     "metadata": {},
     "output_type": "execute_result"
    }
   ],
   "source": [
    "arr = np.random.randint(1,10, size = 10)\n",
    "print(arr)\n",
    "mi = np.min(arr)\n",
    "print(mi)\n",
    "ma = np.max(arr)\n",
    "print(ma)\n",
    "ra = ma - mi\n",
    "ra"
   ]
  },
  {
   "cell_type": "markdown",
   "id": "15aace76",
   "metadata": {},
   "source": [
    "# variance "
   ]
  },
  {
   "attachments": {
    "image.png": {
     "image/png": "[encoded data removed]"
    }
   },
   "cell_type": "markdown",
   "id": "b88ae361",
   "metadata": {},
   "source": [
    "![image.png](attachment:image.png)"
   ]
  },
  {
   "cell_type": "code",
   "execution_count": 106,
   "id": "d6f3b94c",
   "metadata": {},
   "outputs": [
    {
     "data": {
      "text/plain": [
       "array([5, 5, 4, 2, 4, 4, 3, 5, 3, 6])"
      ]
     },
     "execution_count": 106,
     "metadata": {},
     "output_type": "execute_result"
    }
   ],
   "source": [
    "arr = np.random.randint(1,10, size = 10)\n",
    "arr"
   ]
  },
  {
   "cell_type": "code",
   "execution_count": 107,
   "id": "f7be2e13",
   "metadata": {},
   "outputs": [
    {
     "data": {
      "text/plain": [
       "4.1"
      ]
     },
     "execution_count": 107,
     "metadata": {},
     "output_type": "execute_result"
    }
   ],
   "source": [
    "mean = np.mean(arr)\n",
    "mean"
   ]
  },
  {
   "cell_type": "code",
   "execution_count": 108,
   "id": "7fff7bf9",
   "metadata": {},
   "outputs": [
    {
     "data": {
      "text/plain": [
       "array([ 0.9,  0.9, -0.1, -2.1, -0.1, -0.1, -1.1,  0.9, -1.1,  1.9])"
      ]
     },
     "execution_count": 108,
     "metadata": {},
     "output_type": "execute_result"
    }
   ],
   "source": [
    "tem = arr - mean\n",
    "tem"
   ]
  },
  {
   "cell_type": "code",
   "execution_count": 109,
   "id": "6b6ad0a9",
   "metadata": {},
   "outputs": [
    {
     "data": {
      "text/plain": [
       "array([0.81, 0.81, 0.01, 4.41, 0.01, 0.01, 1.21, 0.81, 1.21, 3.61])"
      ]
     },
     "execution_count": 109,
     "metadata": {},
     "output_type": "execute_result"
    }
   ],
   "source": [
    "tem_sq = tem**2\n",
    "tem_sq"
   ]
  },
  {
   "cell_type": "code",
   "execution_count": 110,
   "id": "63e759a3",
   "metadata": {},
   "outputs": [
    {
     "data": {
      "text/plain": [
       "12.899999999999999"
      ]
     },
     "execution_count": 110,
     "metadata": {},
     "output_type": "execute_result"
    }
   ],
   "source": [
    "np.sum(tem_sq)"
   ]
  },
  {
   "cell_type": "code",
   "execution_count": 112,
   "id": "0487a4da",
   "metadata": {},
   "outputs": [
    {
     "data": {
      "text/plain": [
       "0.2899999999999998"
      ]
     },
     "execution_count": 112,
     "metadata": {},
     "output_type": "execute_result"
    }
   ],
   "source": [
    "np.sum(tem_sq)/ len(arr)-1"
   ]
  },
  {
   "cell_type": "code",
   "execution_count": 113,
   "id": "a67ebf22",
   "metadata": {},
   "outputs": [
    {
     "data": {
      "text/plain": [
       "1.2899999999999998"
      ]
     },
     "execution_count": 113,
     "metadata": {},
     "output_type": "execute_result"
    }
   ],
   "source": [
    "np.sum(tem_sq)/ len(arr)  ### population variance "
   ]
  },
  {
   "cell_type": "code",
   "execution_count": 114,
   "id": "f61100e2",
   "metadata": {},
   "outputs": [
    {
     "data": {
      "text/plain": [
       "1.2899999999999998"
      ]
     },
     "execution_count": 114,
     "metadata": {},
     "output_type": "execute_result"
    }
   ],
   "source": [
    "np.var(arr)"
   ]
  },
  {
   "cell_type": "code",
   "execution_count": 87,
   "id": "2f322672",
   "metadata": {},
   "outputs": [
    {
     "data": {
      "text/plain": [
       "array([5, 8, 3, 9, 2, 3, 1, 4, 6, 1])"
      ]
     },
     "execution_count": 87,
     "metadata": {},
     "output_type": "execute_result"
    }
   ],
   "source": [
    "arr"
   ]
  },
  {
   "cell_type": "code",
   "execution_count": 92,
   "id": "57b7c485",
   "metadata": {},
   "outputs": [],
   "source": [
    "arr = np.array([4, 5, 5, 5, 6, 6, 6, 6, 7, 7, 7,8])"
   ]
  },
  {
   "cell_type": "code",
   "execution_count": 93,
   "id": "60a2a1dd",
   "metadata": {},
   "outputs": [
    {
     "data": {
      "text/plain": [
       "1.1666666666666667"
      ]
     },
     "execution_count": 93,
     "metadata": {},
     "output_type": "execute_result"
    }
   ],
   "source": [
    "np.var(arr)"
   ]
  },
  {
   "cell_type": "code",
   "execution_count": 95,
   "id": "51962764",
   "metadata": {},
   "outputs": [
    {
     "data": {
      "text/plain": [
       "6.0"
      ]
     },
     "execution_count": 95,
     "metadata": {},
     "output_type": "execute_result"
    }
   ],
   "source": [
    "mean = np.mean(arr)\n",
    "mean"
   ]
  },
  {
   "cell_type": "code",
   "execution_count": 96,
   "id": "c2c4a652",
   "metadata": {},
   "outputs": [],
   "source": [
    "temp = arr - mean"
   ]
  },
  {
   "cell_type": "code",
   "execution_count": 98,
   "id": "145e80eb",
   "metadata": {},
   "outputs": [
    {
     "data": {
      "text/plain": [
       "0.0"
      ]
     },
     "execution_count": 98,
     "metadata": {},
     "output_type": "execute_result"
    }
   ],
   "source": [
    "np.sum(temp)\n"
   ]
  },
  {
   "cell_type": "code",
   "execution_count": 99,
   "id": "75119caf",
   "metadata": {},
   "outputs": [
    {
     "data": {
      "text/plain": [
       "array([4., 1., 1., 1., 0., 0., 0., 0., 1., 1., 1., 4.])"
      ]
     },
     "execution_count": 99,
     "metadata": {},
     "output_type": "execute_result"
    }
   ],
   "source": [
    "temp_sq = temp**2\n",
    "temp_sq"
   ]
  },
  {
   "cell_type": "code",
   "execution_count": 101,
   "id": "b0061c7b",
   "metadata": {},
   "outputs": [],
   "source": [
    "res = np.sum(temp_sq)"
   ]
  },
  {
   "cell_type": "code",
   "execution_count": 102,
   "id": "2caeaf81",
   "metadata": {},
   "outputs": [
    {
     "data": {
      "text/plain": [
       "14.0"
      ]
     },
     "execution_count": 102,
     "metadata": {},
     "output_type": "execute_result"
    }
   ],
   "source": [
    "res"
   ]
  },
  {
   "cell_type": "code",
   "execution_count": 103,
   "id": "07366030",
   "metadata": {},
   "outputs": [
    {
     "data": {
      "text/plain": [
       "1.1666666666666667"
      ]
     },
     "execution_count": 103,
     "metadata": {},
     "output_type": "execute_result"
    }
   ],
   "source": [
    "res / len(arr)\n"
   ]
  },
  {
   "cell_type": "code",
   "execution_count": null,
   "id": "66f4c055",
   "metadata": {},
   "outputs": [],
   "source": []
  },
  {
   "cell_type": "markdown",
   "id": "48598dfa",
   "metadata": {},
   "source": [
    "# Standard Deviation "
   ]
  },
  {
   "cell_type": "code",
   "execution_count": null,
   "id": "7fc4302e",
   "metadata": {},
   "outputs": [],
   "source": [
    "Sqrt varinace \n"
   ]
  },
  {
   "cell_type": "code",
   "execution_count": 115,
   "id": "1a07e86d",
   "metadata": {},
   "outputs": [
    {
     "data": {
      "text/plain": [
       "1.1357816691600546"
      ]
     },
     "execution_count": 115,
     "metadata": {},
     "output_type": "execute_result"
    }
   ],
   "source": [
    "np.std(arr)"
   ]
  },
  {
   "cell_type": "code",
   "execution_count": 116,
   "id": "ef079cc5",
   "metadata": {},
   "outputs": [
    {
     "data": {
      "text/plain": [
       "1.2899999999999998"
      ]
     },
     "execution_count": 116,
     "metadata": {},
     "output_type": "execute_result"
    }
   ],
   "source": [
    "np.var(arr)"
   ]
  },
  {
   "cell_type": "code",
   "execution_count": 117,
   "id": "aa375f23",
   "metadata": {},
   "outputs": [
    {
     "data": {
      "text/plain": [
       "1.1357816691600546"
      ]
     },
     "execution_count": 117,
     "metadata": {},
     "output_type": "execute_result"
    }
   ],
   "source": [
    "np.sqrt(np.var(arr))"
   ]
  },
  {
   "cell_type": "markdown",
   "id": "e62f0ae5",
   "metadata": {},
   "source": [
    "# percentile "
   ]
  },
  {
   "cell_type": "code",
   "execution_count": 119,
   "id": "34ef5798",
   "metadata": {},
   "outputs": [
    {
     "data": {
      "text/plain": [
       "array([5, 5, 4, 2, 4, 4, 3, 5, 3, 6])"
      ]
     },
     "execution_count": 119,
     "metadata": {},
     "output_type": "execute_result"
    }
   ],
   "source": [
    "arr"
   ]
  },
  {
   "cell_type": "code",
   "execution_count": 120,
   "id": "36e21b80",
   "metadata": {},
   "outputs": [
    {
     "data": {
      "text/plain": [
       "5.0"
      ]
     },
     "execution_count": 120,
     "metadata": {},
     "output_type": "execute_result"
    }
   ],
   "source": [
    "np.percentile(arr,75)"
   ]
  },
  {
   "cell_type": "code",
   "execution_count": 122,
   "id": "7ff2daa5",
   "metadata": {},
   "outputs": [
    {
     "data": {
      "text/plain": [
       "4.0"
      ]
     },
     "execution_count": 122,
     "metadata": {},
     "output_type": "execute_result"
    }
   ],
   "source": [
    "np.percentile(arr,50)  # 50 percentile is median value "
   ]
  },
  {
   "cell_type": "code",
   "execution_count": 123,
   "id": "95a3c4f0",
   "metadata": {},
   "outputs": [
    {
     "data": {
      "text/plain": [
       "3.25"
      ]
     },
     "execution_count": 123,
     "metadata": {},
     "output_type": "execute_result"
    }
   ],
   "source": [
    "np.percentile(arr,25)  "
   ]
  },
  {
   "cell_type": "code",
   "execution_count": null,
   "id": "13f47f91",
   "metadata": {},
   "outputs": [],
   "source": [
    "25 - Q1\n",
    "50 - Q2\n",
    "75 - Q3"
   ]
  },
  {
   "cell_type": "code",
   "execution_count": null,
   "id": "1356b5d3",
   "metadata": {},
   "outputs": [],
   "source": [
    "IQR -- > Iter Quartile Range \n",
    "IQR = Q3 - Q1"
   ]
  },
  {
   "cell_type": "code",
   "execution_count": 127,
   "id": "ce99c14f",
   "metadata": {},
   "outputs": [
    {
     "data": {
      "text/plain": [
       "3.25"
      ]
     },
     "execution_count": 127,
     "metadata": {},
     "output_type": "execute_result"
    }
   ],
   "source": [
    "np.percentile(arr,25)  "
   ]
  },
  {
   "cell_type": "code",
   "execution_count": 126,
   "id": "e196627a",
   "metadata": {},
   "outputs": [
    {
     "data": {
      "text/plain": [
       "5.549999999999999"
      ]
     },
     "execution_count": 126,
     "metadata": {},
     "output_type": "execute_result"
    }
   ],
   "source": [
    "np.percentile(arr,95)  "
   ]
  },
  {
   "cell_type": "markdown",
   "id": "038df31b",
   "metadata": {},
   "source": [
    "# quantile "
   ]
  },
  {
   "cell_type": "code",
   "execution_count": null,
   "id": "76acc6fc",
   "metadata": {},
   "outputs": [],
   "source": [
    "Syntax: \n",
    "    np.quantile(arr, 0.75)"
   ]
  },
  {
   "cell_type": "code",
   "execution_count": 129,
   "id": "34426a2c",
   "metadata": {},
   "outputs": [
    {
     "data": {
      "text/plain": [
       "5.549999999999999"
      ]
     },
     "execution_count": 129,
     "metadata": {},
     "output_type": "execute_result"
    }
   ],
   "source": [
    "np.quantile(arr,.95)  "
   ]
  },
  {
   "cell_type": "code",
   "execution_count": null,
   "id": "f42d8527",
   "metadata": {},
   "outputs": [],
   "source": []
  }
 ],
 "metadata": {
  "kernelspec": {
   "display_name": "Python 3 (ipykernel)",
   "language": "python",
   "name": "python3"
  },
  "language_info": {
   "codemirror_mode": {
    "name": "ipython",
    "version": 3
   },
   "file_extension": ".py",
   "mimetype": "text/x-python",
   "name": "python",
   "nbconvert_exporter": "python",
   "pygments_lexer": "ipython3",
   "version": "3.9.12"
  }
 },
 "nbformat": 4,
 "nbformat_minor": 5
}

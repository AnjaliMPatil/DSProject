{
 "cells": [
  {
   "cell_type": "code",
   "execution_count": 1,
   "id": "f52e9658",
   "metadata": {},
   "outputs": [],
   "source": [
    "import numpy as np"
   ]
  },
  {
   "cell_type": "code",
   "execution_count": null,
   "id": "9083f02c",
   "metadata": {},
   "outputs": [],
   "source": [
    "sin = opp/hyp\n",
    "cos = adj/hyp\n",
    "tan = opp/adj >> sin/cos \n",
    "cosec = hyp/opp >> 1/sin\n",
    "sec   = hyp/adj >> 1/cos\n",
    "cot   = adj/opp >>1/tan >> cos/sin"
   ]
  },
  {
   "cell_type": "code",
   "execution_count": null,
   "id": "f2337433",
   "metadata": {},
   "outputs": [],
   "source": [
    "sin(30) = 1/2 "
   ]
  },
  {
   "cell_type": "markdown",
   "id": "fc609e17",
   "metadata": {},
   "source": [
    "# functions "
   ]
  },
  {
   "cell_type": "code",
   "execution_count": null,
   "id": "ccc2721a",
   "metadata": {},
   "outputs": [],
   "source": [
    "np.sin()\n",
    "np.cos()\n",
    "np.tan()"
   ]
  },
  {
   "cell_type": "code",
   "execution_count": null,
   "id": "7448e8c7",
   "metadata": {},
   "outputs": [],
   "source": [
    "Unit of angle is degree or radian "
   ]
  },
  {
   "cell_type": "markdown",
   "id": "eee93708",
   "metadata": {},
   "source": [
    "# sin"
   ]
  },
  {
   "cell_type": "code",
   "execution_count": 2,
   "id": "d5cfd7c8",
   "metadata": {},
   "outputs": [
    {
     "data": {
      "text/plain": [
       "-0.9880316240928618"
      ]
     },
     "execution_count": 2,
     "metadata": {},
     "output_type": "execute_result"
    }
   ],
   "source": [
    "np.sin(30)"
   ]
  },
  {
   "cell_type": "code",
   "execution_count": 3,
   "id": "7a92ab79",
   "metadata": {},
   "outputs": [
    {
     "data": {
      "text/plain": [
       "3.141592653589793"
      ]
     },
     "execution_count": 3,
     "metadata": {},
     "output_type": "execute_result"
    }
   ],
   "source": [
    "np.pi = 180 degree"
   ]
  },
  {
   "cell_type": "code",
   "execution_count": 5,
   "id": "0bd0f637",
   "metadata": {},
   "outputs": [
    {
     "data": {
      "text/plain": [
       "0.49999999999999994"
      ]
     },
     "execution_count": 5,
     "metadata": {},
     "output_type": "execute_result"
    }
   ],
   "source": [
    "sin_30 = np.sin(np.pi/6)  # pi/6 = 30 degree\n",
    "sin_30"
   ]
  },
  {
   "cell_type": "code",
   "execution_count": 6,
   "id": "236bb805",
   "metadata": {},
   "outputs": [
    {
     "data": {
      "text/plain": [
       "0.7071067811865476"
      ]
     },
     "execution_count": 6,
     "metadata": {},
     "output_type": "execute_result"
    }
   ],
   "source": [
    "# sin_45 = 1/sqrt(2)\n",
    "sin_45 = np.sin(np.pi/4) # pi/4 = 45 degree\n",
    "sin_45"
   ]
  },
  {
   "cell_type": "code",
   "execution_count": 7,
   "id": "a1ca4bb6",
   "metadata": {},
   "outputs": [
    {
     "data": {
      "text/plain": [
       "1.4142135623730951"
      ]
     },
     "execution_count": 7,
     "metadata": {},
     "output_type": "execute_result"
    }
   ],
   "source": [
    "np.sqrt(2)"
   ]
  },
  {
   "cell_type": "code",
   "execution_count": 8,
   "id": "4ca83b32",
   "metadata": {},
   "outputs": [
    {
     "data": {
      "text/plain": [
       "0.7071067811865475"
      ]
     },
     "execution_count": 8,
     "metadata": {},
     "output_type": "execute_result"
    }
   ],
   "source": [
    "1/np.sqrt(2)"
   ]
  },
  {
   "cell_type": "code",
   "execution_count": 9,
   "id": "d5485ccc",
   "metadata": {},
   "outputs": [
    {
     "data": {
      "text/plain": [
       "0.8660254037844386"
      ]
     },
     "execution_count": 9,
     "metadata": {},
     "output_type": "execute_result"
    }
   ],
   "source": [
    "sin_60 = np.sin(np.pi/3) # pi/3 = 60 degree\n",
    "sin_60"
   ]
  },
  {
   "cell_type": "code",
   "execution_count": 10,
   "id": "3a389c71",
   "metadata": {},
   "outputs": [
    {
     "data": {
      "text/plain": [
       "1.0"
      ]
     },
     "execution_count": 10,
     "metadata": {},
     "output_type": "execute_result"
    }
   ],
   "source": [
    "sin_90 = np.sin(np.pi/2) # pi/2 = 90 degree\n",
    "sin_90"
   ]
  },
  {
   "cell_type": "code",
   "execution_count": 11,
   "id": "2fe3d4fb",
   "metadata": {},
   "outputs": [
    {
     "data": {
      "text/plain": [
       "0.8939966636005579"
      ]
     },
     "execution_count": 11,
     "metadata": {},
     "output_type": "execute_result"
    }
   ],
   "source": [
    "np.sin(90)"
   ]
  },
  {
   "cell_type": "markdown",
   "id": "ea969dbf",
   "metadata": {},
   "source": [
    "# 2. cos "
   ]
  },
  {
   "cell_type": "code",
   "execution_count": 13,
   "id": "721159ce",
   "metadata": {},
   "outputs": [
    {
     "data": {
      "text/plain": [
       "0.8660254037844387"
      ]
     },
     "execution_count": 13,
     "metadata": {},
     "output_type": "execute_result"
    }
   ],
   "source": [
    "np.cos(np.pi/6)"
   ]
  },
  {
   "cell_type": "code",
   "execution_count": 14,
   "id": "15891b86",
   "metadata": {},
   "outputs": [
    {
     "data": {
      "text/plain": [
       "6.123233995736766e-17"
      ]
     },
     "execution_count": 14,
     "metadata": {},
     "output_type": "execute_result"
    }
   ],
   "source": [
    "np.cos(np.pi/2)"
   ]
  },
  {
   "cell_type": "code",
   "execution_count": 15,
   "id": "34d03f54",
   "metadata": {},
   "outputs": [
    {
     "data": {
      "text/plain": [
       "0.7071067811865476"
      ]
     },
     "execution_count": 15,
     "metadata": {},
     "output_type": "execute_result"
    }
   ],
   "source": [
    "np.cos(np.pi/4)"
   ]
  },
  {
   "cell_type": "markdown",
   "id": "0d669c9e",
   "metadata": {},
   "source": [
    "# tan "
   ]
  },
  {
   "cell_type": "code",
   "execution_count": 17,
   "id": "96eba9d7",
   "metadata": {},
   "outputs": [
    {
     "data": {
      "text/plain": [
       "0.5773502691896257"
      ]
     },
     "execution_count": 17,
     "metadata": {},
     "output_type": "execute_result"
    }
   ],
   "source": [
    "np.tan(np.pi/6)"
   ]
  },
  {
   "cell_type": "code",
   "execution_count": 18,
   "id": "5d07933d",
   "metadata": {},
   "outputs": [
    {
     "data": {
      "text/plain": [
       "0.9999999999999999"
      ]
     },
     "execution_count": 18,
     "metadata": {},
     "output_type": "execute_result"
    }
   ],
   "source": [
    "np.tan(np.pi/4)"
   ]
  },
  {
   "cell_type": "code",
   "execution_count": 20,
   "id": "8311df16",
   "metadata": {},
   "outputs": [
    {
     "data": {
      "text/plain": [
       "1.7320508075688767"
      ]
     },
     "execution_count": 20,
     "metadata": {},
     "output_type": "execute_result"
    }
   ],
   "source": [
    "np.tan(np.pi/3)"
   ]
  },
  {
   "cell_type": "code",
   "execution_count": 21,
   "id": "f50fc505",
   "metadata": {},
   "outputs": [
    {
     "data": {
      "text/plain": [
       "1.633123935319537e+16"
      ]
     },
     "execution_count": 21,
     "metadata": {},
     "output_type": "execute_result"
    }
   ],
   "source": [
    "np.tan(np.pi/2)"
   ]
  },
  {
   "cell_type": "markdown",
   "id": "ca7d088e",
   "metadata": {},
   "source": [
    "# deg2rad"
   ]
  },
  {
   "cell_type": "code",
   "execution_count": 22,
   "id": "438f4d46",
   "metadata": {},
   "outputs": [
    {
     "data": {
      "text/plain": [
       "1.5707963267948966"
      ]
     },
     "execution_count": 22,
     "metadata": {},
     "output_type": "execute_result"
    }
   ],
   "source": [
    "np.pi/2  # 90"
   ]
  },
  {
   "cell_type": "code",
   "execution_count": 23,
   "id": "53ec5e95",
   "metadata": {},
   "outputs": [
    {
     "data": {
      "text/plain": [
       "0.7853981633974483"
      ]
     },
     "execution_count": 23,
     "metadata": {},
     "output_type": "execute_result"
    }
   ],
   "source": [
    "np.pi/4 # 45"
   ]
  },
  {
   "cell_type": "code",
   "execution_count": null,
   "id": "99557952",
   "metadata": {},
   "outputs": [],
   "source": [
    "np.pi/4 # 50"
   ]
  },
  {
   "cell_type": "code",
   "execution_count": 24,
   "id": "e3f924ef",
   "metadata": {},
   "outputs": [
    {
     "data": {
      "text/plain": [
       "0.7853981633974483"
      ]
     },
     "execution_count": 24,
     "metadata": {},
     "output_type": "execute_result"
    }
   ],
   "source": [
    "np.deg2rad(45)"
   ]
  },
  {
   "cell_type": "code",
   "execution_count": 25,
   "id": "a266a8e0",
   "metadata": {},
   "outputs": [
    {
     "data": {
      "text/plain": [
       "1.5707963267948966"
      ]
     },
     "execution_count": 25,
     "metadata": {},
     "output_type": "execute_result"
    }
   ],
   "source": [
    "np.deg2rad(90)"
   ]
  },
  {
   "cell_type": "code",
   "execution_count": 26,
   "id": "710ced52",
   "metadata": {},
   "outputs": [
    {
     "data": {
      "text/plain": [
       "0.8726646259971648"
      ]
     },
     "execution_count": 26,
     "metadata": {},
     "output_type": "execute_result"
    }
   ],
   "source": [
    "np.deg2rad(50)"
   ]
  },
  {
   "cell_type": "code",
   "execution_count": 27,
   "id": "5a2ebdac",
   "metadata": {},
   "outputs": [
    {
     "data": {
      "text/plain": [
       "0.9599310885968813"
      ]
     },
     "execution_count": 27,
     "metadata": {},
     "output_type": "execute_result"
    }
   ],
   "source": [
    "np.deg2rad(55)"
   ]
  },
  {
   "cell_type": "code",
   "execution_count": 28,
   "id": "a73ffd60",
   "metadata": {},
   "outputs": [
    {
     "data": {
      "text/plain": [
       "0.2617993877991494"
      ]
     },
     "execution_count": 28,
     "metadata": {},
     "output_type": "execute_result"
    }
   ],
   "source": [
    "np.deg2rad(15)"
   ]
  },
  {
   "cell_type": "code",
   "execution_count": 29,
   "id": "addbe040",
   "metadata": {},
   "outputs": [
    {
     "data": {
      "text/plain": [
       "0.25881904510252074"
      ]
     },
     "execution_count": 29,
     "metadata": {},
     "output_type": "execute_result"
    }
   ],
   "source": [
    "np.sin(np.deg2rad(15))"
   ]
  },
  {
   "cell_type": "code",
   "execution_count": 30,
   "id": "99e18abe",
   "metadata": {},
   "outputs": [
    {
     "data": {
      "text/plain": [
       "0.49999999999999994"
      ]
     },
     "execution_count": 30,
     "metadata": {},
     "output_type": "execute_result"
    }
   ],
   "source": [
    "np.sin(np.deg2rad(30))"
   ]
  },
  {
   "cell_type": "code",
   "execution_count": 31,
   "id": "6ca77fc6",
   "metadata": {},
   "outputs": [
    {
     "data": {
      "text/plain": [
       "array([ 0, 30, 45, 60, 90])"
      ]
     },
     "execution_count": 31,
     "metadata": {},
     "output_type": "execute_result"
    }
   ],
   "source": [
    "deg = np.array([0,30,45,60,90])\n",
    "deg"
   ]
  },
  {
   "cell_type": "code",
   "execution_count": 32,
   "id": "2ca9fb06",
   "metadata": {},
   "outputs": [
    {
     "data": {
      "text/plain": [
       "array([0.        , 0.52359878, 0.78539816, 1.04719755, 1.57079633])"
      ]
     },
     "execution_count": 32,
     "metadata": {},
     "output_type": "execute_result"
    }
   ],
   "source": [
    "np.deg2rad(deg)"
   ]
  },
  {
   "cell_type": "code",
   "execution_count": 33,
   "id": "c19ee14d",
   "metadata": {},
   "outputs": [
    {
     "data": {
      "text/plain": [
       "array([0.        , 0.5       , 0.70710678, 0.8660254 , 1.        ])"
      ]
     },
     "execution_count": 33,
     "metadata": {},
     "output_type": "execute_result"
    }
   ],
   "source": [
    "sin_arr = np.sin(np.deg2rad(deg))\n",
    "sin_arr"
   ]
  },
  {
   "cell_type": "code",
   "execution_count": 34,
   "id": "da35f255",
   "metadata": {},
   "outputs": [
    {
     "data": {
      "text/plain": [
       "array([0., 0., 1., 1., 1.])"
      ]
     },
     "execution_count": 34,
     "metadata": {},
     "output_type": "execute_result"
    }
   ],
   "source": [
    "sin_arr = np.around(np.sin(np.deg2rad(deg)))\n",
    "sin_arr"
   ]
  },
  {
   "cell_type": "code",
   "execution_count": 35,
   "id": "786baf2e",
   "metadata": {},
   "outputs": [
    {
     "data": {
      "text/plain": [
       "array([0.  , 0.5 , 0.71, 0.87, 1.  ])"
      ]
     },
     "execution_count": 35,
     "metadata": {},
     "output_type": "execute_result"
    }
   ],
   "source": [
    "sin_arr = np.around(np.sin(np.deg2rad(deg)),2)\n",
    "sin_arr"
   ]
  },
  {
   "cell_type": "code",
   "execution_count": 37,
   "id": "6a85bc38",
   "metadata": {},
   "outputs": [
    {
     "name": "stderr",
     "output_type": "stream",
     "text": [
      "C:\\Users\\Shridhar\\AppData\\Local\\Temp\\ipykernel_8952\\998784478.py:1: RuntimeWarning: divide by zero encountered in divide\n",
      "  cosec_arr = np.around(1/np.sin(np.deg2rad(deg)),2)\n"
     ]
    },
    {
     "data": {
      "text/plain": [
       "array([ inf, 2.  , 1.41, 1.15, 1.  ])"
      ]
     },
     "execution_count": 37,
     "metadata": {},
     "output_type": "execute_result"
    }
   ],
   "source": [
    "cosec_arr = np.around(1/np.sin(np.deg2rad(deg)),2)\n",
    "cosec_arr"
   ]
  },
  {
   "cell_type": "markdown",
   "id": "c20368b9",
   "metadata": {},
   "source": [
    "# radian to degree"
   ]
  },
  {
   "cell_type": "code",
   "execution_count": 39,
   "id": "229aa440",
   "metadata": {},
   "outputs": [
    {
     "data": {
      "text/plain": [
       "array([0.        , 0.52359878, 0.78539816, 1.04719755, 1.57079633])"
      ]
     },
     "execution_count": 39,
     "metadata": {},
     "output_type": "execute_result"
    }
   ],
   "source": [
    "radian = np.array([0.        , 0.52359878, 0.78539816, 1.04719755, 1.57079633])\n",
    "radian"
   ]
  },
  {
   "cell_type": "code",
   "execution_count": 40,
   "id": "f6e42583",
   "metadata": {},
   "outputs": [
    {
     "data": {
      "text/plain": [
       "array([ 0.        , 30.00000025, 44.99999981, 59.99999993, 90.00000018])"
      ]
     },
     "execution_count": 40,
     "metadata": {},
     "output_type": "execute_result"
    }
   ],
   "source": [
    "np.rad2deg(radian)"
   ]
  },
  {
   "cell_type": "code",
   "execution_count": 41,
   "id": "e6444532",
   "metadata": {},
   "outputs": [
    {
     "data": {
      "text/plain": [
       "array([ 0., 30., 45., 60., 90.])"
      ]
     },
     "execution_count": 41,
     "metadata": {},
     "output_type": "execute_result"
    }
   ],
   "source": [
    "np.around(np.rad2deg(radian))"
   ]
  },
  {
   "cell_type": "code",
   "execution_count": null,
   "id": "793e37f9",
   "metadata": {},
   "outputs": [],
   "source": []
  }
 ],
 "metadata": {
  "kernelspec": {
   "display_name": "Python 3 (ipykernel)",
   "language": "python",
   "name": "python3"
  },
  "language_info": {
   "codemirror_mode": {
    "name": "ipython",
    "version": 3
   },
   "file_extension": ".py",
   "mimetype": "text/x-python",
   "name": "python",
   "nbconvert_exporter": "python",
   "pygments_lexer": "ipython3",
   "version": "3.9.12"
  }
 },
 "nbformat": 4,
 "nbformat_minor": 5
}
